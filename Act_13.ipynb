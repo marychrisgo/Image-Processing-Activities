{
 "cells": [
  {
   "cell_type": "code",
   "execution_count": 1,
   "metadata": {
    "ExecuteTime": {
     "end_time": "2019-11-22T07:55:13.242030Z",
     "start_time": "2019-11-22T07:54:53.382377Z"
    }
   },
   "outputs": [
    {
     "name": "stderr",
     "output_type": "stream",
     "text": [
      "C:\\Users\\MaryChrisGo\\Anaconda3\\lib\\site-packages\\numpy\\core\\__init__.py:29: UserWarning: loaded more than 1 DLL from .libs:\n",
      "C:\\Users\\MaryChrisGo\\Anaconda3\\lib\\site-packages\\numpy\\.libs\\libopenblas.IPBC74C7KURV7CB2PKT5Z5FNR3SIBV4J.gfortran-win_amd64.dll\n",
      "C:\\Users\\MaryChrisGo\\Anaconda3\\lib\\site-packages\\numpy\\.libs\\libopenblas.TXA6YQSD3GCQQC22GEQ54J2UDCXDXHWN.gfortran-win_amd64.dll\n",
      "  stacklevel=1)\n"
     ]
    }
   ],
   "source": [
    "import os\n",
    "import numpy as np\n",
    "from matplotlib import pyplot as plt\n",
    "from mpl_toolkits.mplot3d import Axes3D\n",
    "from skimage import measure as meas, feature as feat\n",
    "import cv2 as cv\n",
    "from jupyterthemes import jtplot"
   ]
  },
  {
   "cell_type": "code",
   "execution_count": 2,
   "metadata": {
    "ExecuteTime": {
     "end_time": "2019-11-22T07:55:13.248019Z",
     "start_time": "2019-11-22T07:55:13.243045Z"
    }
   },
   "outputs": [],
   "source": [
    "train = 'C://Users//MaryChrisGo//Documents//1st Sem AY 2019-2020//App Physics 186//Act_12//'\n",
    "banana = train + 'Banana//'\n",
    "mango = train + 'Mango//'\n",
    "orange = train + 'Orange//'\n"
   ]
  },
  {
   "cell_type": "code",
   "execution_count": 3,
   "metadata": {
    "ExecuteTime": {
     "end_time": "2019-11-22T07:55:13.812480Z",
     "start_time": "2019-11-22T07:55:13.250013Z"
    }
   },
   "outputs": [
    {
     "name": "stderr",
     "output_type": "stream",
     "text": [
      "C:\\Users\\MaryChrisGo\\Anaconda3\\lib\\site-packages\\skimage\\measure\\_regionprops.py:250: UserWarning: regionprops and image moments (including moments, normalized moments, central moments, and inertia tensor) of 2D images will change from xy coordinates to rc coordinates in version 0.16.\n",
      "See http://scikit-image.org/docs/0.14.x/release_notes_and_installation.html#deprecations for details on how to avoid this message.\n",
      "  warn(XY_TO_RC_DEPRECATION_MESSAGE)\n",
      "C:\\Users\\MaryChrisGo\\Anaconda3\\lib\\site-packages\\skimage\\measure\\_regionprops.py:260: UserWarning: regionprops and image moments (including moments, normalized moments, central moments, and inertia tensor) of 2D images will change from xy coordinates to rc coordinates in version 0.16.\n",
      "See http://scikit-image.org/docs/0.14.x/release_notes_and_installation.html#deprecations for details on how to avoid this message.\n",
      "  warn(XY_TO_RC_DEPRECATION_MESSAGE)\n"
     ]
    }
   ],
   "source": [
    "ban_a, ban_b, ban_ecc = [], [], []\n",
    "man_a, man_b, man_ecc = [], [], []\n",
    "ora_a, ora_b, ora_ecc = [], [], []\n",
    "ass = [ban_a, man_a, ora_a]\n",
    "bss = [ban_b, man_b, ora_b]\n",
    "ecs = [ban_ecc, man_ecc, ora_ecc]\n",
    "dirs = [banana, mango, orange]\n",
    "\n",
    "for j in range(3):\n",
    "    filenames = os.listdir(dirs[j])\n",
    "    for i,f in enumerate(filenames):\n",
    "        if i == 50:\n",
    "            break \n",
    "        #eccentricity\n",
    "        img = cv.imread(dirs[j] + f)\n",
    "        img_gray = cv.cvtColor(img, cv.COLOR_BGR2GRAY)\n",
    "        thres, out = cv.threshold(img_gray, 127, 255, cv.THRESH_OTSU)\n",
    "        out = (img_gray < thres).astype(float)\n",
    "        img_label = meas.label(out)\n",
    "        props = meas.regionprops(img_label)\n",
    "        ecc = props[0]['eccentricity']\n",
    "\n",
    "        # a* b*\n",
    "        img_Lab = cv.cvtColor(img, cv.COLOR_BGR2Lab).astype(float)\n",
    "        img_Lab /= img_Lab[:,:,0].max()\n",
    "        img_L, img_a, img_b = cv.split(img_Lab)\n",
    "\n",
    "        ass[j].append(img_a.mean())\n",
    "        bss[j].append(img_b.mean())\n",
    "        ecs[j].append(ecc)\n"
   ]
  },
  {
   "cell_type": "code",
   "execution_count": 15,
   "metadata": {
    "ExecuteTime": {
     "end_time": "2019-11-22T08:04:53.637241Z",
     "start_time": "2019-11-22T08:04:52.858278Z"
    }
   },
   "outputs": [
    {
     "data": {
      "image/png": "[encoded data removed]",
      "text/plain": [
       "<Figure size 504x504 with 1 Axes>"
      ]
     },
     "metadata": {},
     "output_type": "display_data"
    },
    {
     "name": "stdout",
     "output_type": "stream",
     "text": [
      "[0.28839511 0.27421662 0.27525857 0.27796927 0.27548811 0.27665427\n",
      " 0.27646894 0.27623475 0.27729346 0.27682766 0.27648563 0.27771409\n",
      " 0.27737453 0.27708894 0.27751618 0.2787604  0.27833777 0.2787265\n",
      " 0.27831899 0.27965183 0.27998211 0.27958643 0.28085357 0.28131056\n",
      " 0.28170495 0.28229551 0.28313763 0.28516368 0.28752009 0.28798774\n",
      " 0.28704885 0.28925858 0.28962731 0.29049464 0.29302367 0.29360147\n",
      " 0.29646488 0.2974998  0.29566739 0.2943785  0.29285862 0.29139864\n",
      " 0.29000731 0.28873765 0.28733796 0.28590862 0.28437933 0.27690172\n",
      " 0.277847   0.27875768]\n"
     ]
    }
   ],
   "source": [
    "banana_ab = np.multiply(ban_b, ban_a)\n",
    "mango_ab = np.multiply(man_b, man_a)\n",
    "orange_ab = np.multiply(ora_b, ora_a)\n",
    "\n",
    "plt.style.use('ggplot')\n",
    "plt.figure(figsize=(7, 7))\n",
    "plt.plot(banana_ab, ban_ecc, 'o', color = 'black', label='banana')\n",
    "plt.plot(mango_ab, man_ecc, 'o', color = 'green', label='mango')\n",
    "plt.plot(orange_ab, ora_ecc, 'o', color = 'orange', label='orange')\n",
    "plt.xlabel('$a^*(b^*)$')\n",
    "plt.ylabel('eccentricity')\n",
    "plt.legend()\n",
    "plt.tight_layout()\n",
    "plt.savefig('be_space.png', dpi=300, bbox_inches='tight')\n",
    "plt.show()\n",
    "\n",
    "print(banana_ab)\n",
    "\n",
    "np.savetxt(\"banana_ab.csv\", banana_ab, delimiter=\",\", fmt='%s')\n",
    "np.savetxt(\"ban_ecc.csv\", ban_ecc, delimiter=\",\", fmt='%s')\n",
    "np.savetxt(\"mango_ab.csv\", mango_ab, delimiter=\",\", fmt='%s')\n",
    "np.savetxt(\"man_ecc.csv\", man_ecc, delimiter=\",\", fmt='%s')\n",
    "np.savetxt(\"orange_ab.csv\", orange_ab, delimiter=\",\", fmt='%s')\n",
    "np.savetxt(\"oran_ecc.csv\", ora_ecc, delimiter=\",\", fmt='%s')"
   ]
  },
  {
   "cell_type": "markdown",
   "metadata": {},
   "source": [
    "# Getting the perceptron"
   ]
  },
  {
   "cell_type": "code",
   "execution_count": 5,
   "metadata": {
    "ExecuteTime": {
     "end_time": "2019-11-22T07:55:14.970558Z",
     "start_time": "2019-11-22T07:55:14.949614Z"
    }
   },
   "outputs": [],
   "source": [
    "import os\n",
    "import numpy as np\n",
    "import numpy.random as rand\n",
    "from matplotlib import pyplot as plt\n",
    "from mpl_toolkits.mplot3d import Axes3D\n",
    "from skimage import measure as meas, feature as feat\n",
    "import cv2 as cv\n",
    "from tqdm import tnrange, tqdm_notebook as tqdm\n",
    "from jupyterthemes import jtplot"
   ]
  },
  {
   "cell_type": "code",
   "execution_count": 6,
   "metadata": {
    "ExecuteTime": {
     "end_time": "2019-11-22T07:55:14.981544Z",
     "start_time": "2019-11-22T07:55:14.972554Z"
    }
   },
   "outputs": [],
   "source": [
    "class MCPerceptron:\n",
    "    def __init__(self,\n",
    "                 input_shape, \n",
    "                 output_shape,\n",
    "                 epochs,\n",
    "                 activation='step',\n",
    "                 lr=0.01,\n",
    "                 eps=1e-6,\n",
    "                 weight_initializer='random_uniform'):\n",
    "        rand.seed(401)\n",
    "        self.input_shape = input_shape\n",
    "        self.output_shape = output_shape\n",
    "        self.epochs = epochs\n",
    "        self.activation = activation\n",
    "        self.lr = lr\n",
    "        self.eps = eps\n",
    "        self.weight_initializer = weight_initializer\n",
    "        \n",
    "        if self.weight_initializer == 'random_uniform':\n",
    "            self.W = rand.random(self.input_shape[1])\n",
    "        elif self.weight_initializer == 'random_normal':\n",
    "            self.W = rand.normal((0, 1, (self.input_shape[1])))\n",
    "\n",
    "        if self.activation == 'step':\n",
    "            self.g = lambda a: 1 if a >= 0 else -1\n",
    "\n",
    "    def train(self, x, y):\n",
    "        for count in tnrange(self.epochs, desc='Epoch'):\n",
    "            for i in range(self.input_shape[0]):\n",
    "                a = x[i].T.dot(self.W)\n",
    "                z = self.g(a)\n",
    "\n",
    "                res = y[i] - z\n",
    "                dW = self.lr * res * x[i]\n",
    "                self.W += dW\n",
    "                \n",
    "    def predict(self, x):\n",
    "        y = np.zeros(x.shape[0])\n",
    "        for i in range(x.shape[0]):\n",
    "            f = x[i].dot(self.W)\n",
    "            y[i] = self.g(f)\n",
    "        return y \n",
    "    \n",
    "    def get_weights(self):\n",
    "        return self.W\n",
    "    \n",
    "    def get_biases(self):\n",
    "        return self.x.T[0]\n",
    "\n",
    "    def get_line_params(self):\n",
    "        W = self.W\n",
    "        A, B, C = W[1], W[2], -W[0]\n",
    "        m = -A/B\n",
    "        b = C/B\n",
    "        return m, b\n",
    "    \n",
    "    def save_weights(self, filename):\n",
    "        np.save(filename, self.W)\n",
    "        \n",
    "    def load_weights(self, filename):\n",
    "        self.W = np.load(filename)"
   ]
  },
  {
   "cell_type": "markdown",
   "metadata": {},
   "source": [
    "# Banana and Mango"
   ]
  },
  {
   "cell_type": "code",
   "execution_count": 7,
   "metadata": {
    "ExecuteTime": {
     "end_time": "2019-11-22T07:55:14.992499Z",
     "start_time": "2019-11-22T07:55:14.983524Z"
    }
   },
   "outputs": [],
   "source": [
    "x1 = np.hstack(([banana_ab, ban_ecc], [mango_ab, man_ecc])).T\n",
    "x1 = np.column_stack((np.ones(x1.shape[0]), x1))\n",
    "y = np.hstack((np.tile([1], 50), np.tile([-1], 50))).T"
   ]
  },
  {
   "cell_type": "code",
   "execution_count": 8,
   "metadata": {
    "ExecuteTime": {
     "end_time": "2019-11-22T07:55:15.121171Z",
     "start_time": "2019-11-22T07:55:14.994494Z"
    }
   },
   "outputs": [
    {
     "data": {
      "application/vnd.jupyter.widget-view+json": {
       "model_id": "5797655b01dd4bf28f55cbe3ecd632a8",
       "version_major": 2,
       "version_minor": 0
      },
      "text/plain": [
       "HBox(children=(IntProgress(value=0, description='Epoch', style=ProgressStyle(description_width='initial')), HT…"
      ]
     },
     "metadata": {},
     "output_type": "display_data"
    },
    {
     "name": "stdout",
     "output_type": "stream",
     "text": [
      "\n"
     ]
    }
   ],
   "source": [
    "mcp = MCPerceptron(x1.shape, y.shape, epochs=100, lr=1e-1)\n",
    "mcp.train(x1, y)\n",
    "W = mcp.get_weights()"
   ]
  },
  {
   "cell_type": "code",
   "execution_count": 9,
   "metadata": {
    "ExecuteTime": {
     "end_time": "2019-11-22T07:55:15.348547Z",
     "start_time": "2019-11-22T07:55:15.123151Z"
    }
   },
   "outputs": [
    {
     "data": {
      "image/png": "[encoded data removed]",
      "text/plain": [
       "<Figure size 432x288 with 1 Axes>"
      ]
     },
     "metadata": {},
     "output_type": "display_data"
    }
   ],
   "source": [
    "xmin, xmax = np.min((banana_ab, mango_ab))-5e-3, np.max((banana_ab, mango_ab))+5e-3\n",
    "ymin, ymax = np.min((ban_ecc, man_ecc))-5e-3, np.max((ban_ecc, man_ecc))+5e-3\n",
    "db_x = np.linspace(xmin, xmax, 100)\n",
    "db_y = np.linspace(ymin, ymax, 100)\n",
    "xx, yy = np.meshgrid(db_x, db_y)\n",
    "Z = mcp.predict(np.c_[np.ones_like(xx.ravel()), xx.ravel(), yy.ravel()])\n",
    "Z = Z.reshape(xx.shape)\n",
    "\n",
    "plt.contourf(xx, yy, Z, cmap='YlGnBu', alpha=0.4)\n",
    "plt.contour(xx, yy, Z, colors='k', linewidths=0.5)\n",
    "plt.plot(banana_ab, ban_ecc, 'ko', label='banana')\n",
    "plt.plot(mango_ab, man_ecc, 'go', label='mango')\n",
    "#plt.plot(db_x, m*db_x+b, 'k-', lw=1)\n",
    "\n",
    "decision_boundary = mcp.get_line_params()\n",
    "decision_title = 'decision boundary: $y = %.2fx + %.2f$' if decision_boundary[1] >= 0 \\\n",
    "                 else 'decision boundary: $y = %.2fx - %.2f$'\n",
    "plt.title(decision_title %tuple(np.abs(decision_boundary)))\n",
    "plt.legend()\n",
    "plt.xlabel('$a*(b*)$')\n",
    "plt.ylabel('$eccentricity$')\n",
    "plt.xlim(xmin, xmax)\n",
    "plt.ylim(ymin, ymax)\n",
    "# plt.savefig('ban-app_decision.png', dpi=300, bbox_inches='tight')\n",
    "plt.show()\n"
   ]
  },
  {
   "cell_type": "markdown",
   "metadata": {},
   "source": [
    "# Banana and Orange"
   ]
  },
  {
   "cell_type": "code",
   "execution_count": 10,
   "metadata": {
    "ExecuteTime": {
     "end_time": "2019-11-22T07:55:15.478201Z",
     "start_time": "2019-11-22T07:55:15.350542Z"
    }
   },
   "outputs": [
    {
     "data": {
      "application/vnd.jupyter.widget-view+json": {
       "model_id": "eab48591846a4019933398f3a9d995ab",
       "version_major": 2,
       "version_minor": 0
      },
      "text/plain": [
       "HBox(children=(IntProgress(value=0, description='Epoch', style=ProgressStyle(description_width='initial')), HT…"
      ]
     },
     "metadata": {},
     "output_type": "display_data"
    },
    {
     "name": "stdout",
     "output_type": "stream",
     "text": [
      "\n"
     ]
    }
   ],
   "source": [
    "x1 = np.hstack(([banana_ab, ban_ecc], [orange_ab, ora_ecc])).T\n",
    "x1 = np.column_stack((np.ones(x1.shape[0]), x1))\n",
    "y = np.hstack((np.tile([1], 50), np.tile([-1], 50))).T\n",
    "\n",
    "mcp = MCPerceptron(x1.shape, y.shape, epochs=100, lr=1e-1)\n",
    "mcp.train(x1, y)\n",
    "W = mcp.get_weights()"
   ]
  },
  {
   "cell_type": "code",
   "execution_count": 11,
   "metadata": {
    "ExecuteTime": {
     "end_time": "2019-11-22T07:55:15.666697Z",
     "start_time": "2019-11-22T07:55:15.480196Z"
    }
   },
   "outputs": [
    {
     "data": {
      "image/png": "[encoded data removed]",
      "text/plain": [
       "<Figure size 432x288 with 1 Axes>"
      ]
     },
     "metadata": {},
     "output_type": "display_data"
    }
   ],
   "source": [
    "xmin, xmax = np.min((banana_ab, orange_ab))-5e-3, np.max((banana_ab, orange_ab))+5e-3\n",
    "ymin, ymax = np.min((ban_ecc, ora_ecc))-5e-3, np.max((ban_ecc, ora_ecc))+5e-3\n",
    "db_x = np.linspace(xmin, xmax, 100)\n",
    "db_y = np.linspace(ymin, ymax, 100)\n",
    "xx, yy = np.meshgrid(db_x, db_y)\n",
    "Z = mcp.predict(np.c_[np.ones_like(xx.ravel()), xx.ravel(), yy.ravel()])\n",
    "Z = Z.reshape(xx.shape)\n",
    "\n",
    "plt.contourf(xx, yy, Z, cmap='YlGnBu', alpha=0.4)\n",
    "plt.contour(xx, yy, Z, colors='k', linewidths=0.5)\n",
    "plt.plot(banana_ab, ban_ecc, 'ko', label='banana')\n",
    "plt.plot(orange_ab, ora_ecc, 'go', color = 'orange', label='orange')\n",
    "#plt.plot(db_x, m*db_x+b, 'k-', lw=1)\n",
    "\n",
    "decision_boundary = mcp.get_line_params()\n",
    "decision_title = 'decision boundary: $y = %.2fx + %.2f$' if decision_boundary[1] >= 0 \\\n",
    "                 else 'decision boundary: $y = %.2fx - %.2f$'\n",
    "plt.title(decision_title %tuple(np.abs(decision_boundary)))\n",
    "plt.legend()\n",
    "plt.xlabel('$a*(b*)$')\n",
    "plt.ylabel('$eccentricity$')\n",
    "plt.xlim(xmin, xmax)\n",
    "plt.ylim(ymin, ymax)\n",
    "# plt.savefig('ban-app_decision.png', dpi=300, bbox_inches='tight')\n",
    "plt.show()\n"
   ]
  },
  {
   "cell_type": "markdown",
   "metadata": {},
   "source": [
    "# Mango and orange"
   ]
  },
  {
   "cell_type": "code",
   "execution_count": 12,
   "metadata": {
    "ExecuteTime": {
     "end_time": "2019-11-22T07:55:15.795355Z",
     "start_time": "2019-11-22T07:55:15.668692Z"
    }
   },
   "outputs": [
    {
     "data": {
      "application/vnd.jupyter.widget-view+json": {
       "model_id": "592a31ec83a240a187443013efb4592d",
       "version_major": 2,
       "version_minor": 0
      },
      "text/plain": [
       "HBox(children=(IntProgress(value=0, description='Epoch', style=ProgressStyle(description_width='initial')), HT…"
      ]
     },
     "metadata": {},
     "output_type": "display_data"
    },
    {
     "name": "stdout",
     "output_type": "stream",
     "text": [
      "\n"
     ]
    }
   ],
   "source": [
    "x1 = np.hstack(([mango_ab, man_ecc], [orange_ab, ora_ecc])).T\n",
    "x1 = np.column_stack((np.ones(x1.shape[0]), x1))\n",
    "y = np.hstack((np.tile([1], 50), np.tile([-1], 50))).T\n",
    "\n",
    "mcp = MCPerceptron(x1.shape, y.shape, epochs=100, lr=1e-1)\n",
    "mcp.train(x1, y)\n",
    "W = mcp.get_weights()"
   ]
  },
  {
   "cell_type": "code",
   "execution_count": 13,
   "metadata": {
    "ExecuteTime": {
     "end_time": "2019-11-22T07:55:15.996842Z",
     "start_time": "2019-11-22T07:55:15.797375Z"
    }
   },
   "outputs": [
    {
     "data": {
      "image/png": "[encoded data removed]",
      "text/plain": [
       "<Figure size 432x288 with 1 Axes>"
      ]
     },
     "metadata": {},
     "output_type": "display_data"
    }
   ],
   "source": [
    "xmin, xmax = np.min((mango_ab, orange_ab))-5e-3, np.max((mango_ab, orange_ab))+5e-3\n",
    "ymin, ymax = np.min((man_ecc, ora_ecc))-5e-3, np.max((man_ecc, ora_ecc))+5e-3\n",
    "db_x = np.linspace(xmin, xmax, 100)\n",
    "db_y = np.linspace(ymin, ymax, 100)\n",
    "xx, yy = np.meshgrid(db_x, db_y)\n",
    "Z = mcp.predict(np.c_[np.ones_like(xx.ravel()), xx.ravel(), yy.ravel()])\n",
    "Z = Z.reshape(xx.shape)\n",
    "\n",
    "plt.contourf(xx, yy, Z, cmap='YlGnBu', alpha=0.4)\n",
    "plt.contour(xx, yy, Z, colors='k', linewidths=0.5)\n",
    "plt.plot(mango_ab, man_ecc, 'go', label='mango')\n",
    "plt.plot(orange_ab, ora_ecc, 'o', color = 'orange', label='orange')\n",
    "#plt.plot(db_x, m*db_x+b, 'k-', lw=1)\n",
    "\n",
    "decision_boundary = mcp.get_line_params()\n",
    "decision_title = 'decision boundary: $y = %.2fx + %.2f$' if decision_boundary[1] >= 0 \\\n",
    "                 else 'decision boundary: $y = %.2fx - %.2f$'\n",
    "plt.title(decision_title %tuple(np.abs(decision_boundary)))\n",
    "plt.legend()\n",
    "plt.xlabel('$a*(b*)$')\n",
    "plt.ylabel('$eccentricity$')\n",
    "plt.xlim(xmin, xmax)\n",
    "plt.ylim(ymin, ymax)\n",
    "# plt.savefig('ban-app_decision.png', dpi=300, bbox_inches='tight')\n",
    "plt.show()\n"
   ]
  },
  {
   "cell_type": "code",
   "execution_count": null,
   "metadata": {},
   "outputs": [],
   "source": []
  }
 ],
 "metadata": {
  "kernelspec": {
   "display_name": "Python 3",
   "language": "python",
   "name": "python3"
  },
  "language_info": {
   "codemirror_mode": {
    "name": "ipython",
    "version": 3
   },
   "file_extension": ".py",
   "mimetype": "text/x-python",
   "name": "python",
   "nbconvert_exporter": "python",
   "pygments_lexer": "ipython3",
   "version": "3.6.5"
  }
 },
 "nbformat": 4,
 "nbformat_minor": 2
}
