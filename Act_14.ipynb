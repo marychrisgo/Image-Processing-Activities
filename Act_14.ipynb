{
 "cells": [
  {
   "cell_type": "markdown",
   "metadata": {},
   "source": [
    "# Activity 14: Logistic Regression "
   ]
  },
  {
   "cell_type": "code",
   "execution_count": 1,
   "metadata": {
    "ExecuteTime": {
     "end_time": "2019-11-09T18:07:44.694821Z",
     "start_time": "2019-11-09T18:07:38.296341Z"
    }
   },
   "outputs": [
    {
     "name": "stderr",
     "output_type": "stream",
     "text": [
      "C:\\Users\\MaryChrisGo\\Anaconda3\\lib\\site-packages\\numpy\\core\\__init__.py:29: UserWarning: loaded more than 1 DLL from .libs:\n",
      "C:\\Users\\MaryChrisGo\\Anaconda3\\lib\\site-packages\\numpy\\.libs\\libopenblas.IPBC74C7KURV7CB2PKT5Z5FNR3SIBV4J.gfortran-win_amd64.dll\n",
      "C:\\Users\\MaryChrisGo\\Anaconda3\\lib\\site-packages\\numpy\\.libs\\libopenblas.TXA6YQSD3GCQQC22GEQ54J2UDCXDXHWN.gfortran-win_amd64.dll\n",
      "  stacklevel=1)\n"
     ]
    }
   ],
   "source": [
    "import os, glob\n",
    "import numpy as np\n",
    "import numpy.random as rand\n",
    "import pandas as pd\n",
    "from matplotlib import pyplot as plt\n",
    "from matplotlib import offsetbox as obox\n",
    "from mpl_toolkits.mplot3d import Axes3D\n",
    "from sklearn import model_selection as slms, preprocessing as spre\n",
    "from skimage import measure as meas, feature as feat\n",
    "import cv2 as cv\n",
    "from tqdm import tnrange, tqdm_notebook as tqdm\n",
    "from jupyterthemes import jtplot\n"
   ]
  },
  {
   "cell_type": "code",
   "execution_count": 2,
   "metadata": {
    "ExecuteTime": {
     "end_time": "2019-11-09T18:07:44.709815Z",
     "start_time": "2019-11-09T18:07:44.700294Z"
    }
   },
   "outputs": [],
   "source": [
    "traindir = 'C://Users//MaryChrisGo//Documents//1st Sem AY 2019-2020//App Physics 186//Act_14//banana'"
   ]
  },
  {
   "cell_type": "code",
   "execution_count": 3,
   "metadata": {
    "ExecuteTime": {
     "end_time": "2019-11-09T18:07:44.765924Z",
     "start_time": "2019-11-09T18:07:44.717464Z"
    }
   },
   "outputs": [],
   "source": [
    "\n",
    "class MCPerceptron:\n",
    "    def __init__(self,\n",
    "                 n_samples,\n",
    "                 n_features,\n",
    "                 epochs,\n",
    "                 activation='step',\n",
    "                 loss='sse',\n",
    "                 lr=0.01,\n",
    "                 eps=1e-6,\n",
    "                 weight_initializer='random_uniform',\n",
    "                 use_bias=False,\n",
    "                 bias_initializer='ones'):\n",
    "        rand.seed(401)\n",
    "        self.n_samples = n_samples\n",
    "        self.n_features = n_features\n",
    "        self.epochs = epochs\n",
    "        self.activation = activation\n",
    "        self.loss = loss\n",
    "        self.lr = lr\n",
    "        self.eps = eps\n",
    "        self.weight_initializer = weight_initializer\n",
    "        self.use_bias = use_bias\n",
    "        self.bias_initializer = bias_initializer\n",
    "        \n",
    "        if self.weight_initializer == 'random_uniform':\n",
    "            if use_bias:\n",
    "                self.W = rand.random(self.n_features + 1)\n",
    "            else:\n",
    "                self.W = rand.random(self.n_features)\n",
    "        elif self.weight_initializer == 'random_normal':\n",
    "            if use_bias:\n",
    "                self.W = rand.normal((0, 1, (self.n_features + 1)))\n",
    "            else:\n",
    "                self.W = rand.normal((0, 1, (self.n_features)))\n",
    "        else:\n",
    "            raise NotImplementedError\n",
    "            \n",
    "        if self.use_bias:\n",
    "            if self.bias_initializer == 'ones':\n",
    "                self.b = np.ones(self.n_samples)\n",
    "            else:\n",
    "                raise NotImplementedError\n",
    "\n",
    "        if self.activation == 'step':\n",
    "            self.g = lambda a: 1 if a >= 0 else -1\n",
    "        elif self.activation == 'sigmoid':\n",
    "            self.g = lambda a: 1/(1 + np.exp(-a))\n",
    "        elif self.activation == 'softmax':\n",
    "            self.g = lambda a: np.exp(a)/np.sum(np.exp(a))\n",
    "        else:\n",
    "            raise NotImplementedError\n",
    "            \n",
    "        if self.loss == 'sse':\n",
    "            self.l = lambda y_true, y_pred: (y_true - y_pred)**2\n",
    "        else:\n",
    "            raise NotImplementedError\n",
    "    \n",
    "    def train(self, x, y):\n",
    "        self.graph_res = []\n",
    "        x = np.column_stack((self.b, x))\n",
    "        for count in tnrange(self.epochs, desc='Epoch'):\n",
    "            res = 0\n",
    "            for i in range(self.n_samples):\n",
    "                a = x[i].T.dot(self.W)\n",
    "                z = self.g(a)\n",
    "                dW = self.lr * (y[i] - z) * x[i]\n",
    "                self.W += dW\n",
    "                res += self.l(z, y[i])\n",
    "            res /= self.n_samples\n",
    "            self.graph_res.append(res)\n",
    "            if res < self.eps:\n",
    "                break\n",
    "        self.last_epoch = count + 1\n",
    "                 \n",
    "    def predict(self, X, y=None, metrics=None):\n",
    "        if self.use_bias:\n",
    "            z = np.zeros(X.shape[0] + 1)\n",
    "            X = np.column_stack((np.ones(len(X)), X))\n",
    "        else:\n",
    "            z = np.zeros(X.shape[0])\n",
    "        for i in range(X.shape[0]):\n",
    "            a = X[i].dot(self.W)\n",
    "            z[i] = self.g(a)\n",
    "        if metrics is not None and 'acc' in metrics and y is not None:\n",
    "            acc = 0.\n",
    "            for i in range(len(y)):\n",
    "                if np.round(z[i]).astype(int) == y[i]:\n",
    "                    acc += 1\n",
    "            acc /= len(y)\n",
    "            self.metrics = dict({'acc': acc})\n",
    "        self.preds = z\n",
    "        return z\n",
    "    \n",
    "    def get_weights(self):\n",
    "        return self.W\n",
    "    \n",
    "    def get_biases(self):\n",
    "        return self.x.T[0]\n",
    "\n",
    "    def get_line_params(self):\n",
    "        W = self.W\n",
    "        A, B, C = W[1], W[2], -W[0]\n",
    "        m = -A/B\n",
    "        b = C/B\n",
    "        return m, b\n",
    "    \n",
    "    def save_weights(self, filename):\n",
    "        np.save(filename, self.W)\n",
    "        \n",
    "    def load_weights(self, filename):\n",
    "        self.W = np.load(filename)\n",
    "\n",
    "\n",
    "def getChannelMeans(x):\n",
    "    return np.array([np.mean(x[:,:,i]) for i in range(3)])\n"
   ]
  },
  {
   "cell_type": "code",
   "execution_count": 4,
   "metadata": {
    "ExecuteTime": {
     "end_time": "2019-11-09T18:07:44.785823Z",
     "start_time": "2019-11-09T18:07:44.772377Z"
    }
   },
   "outputs": [],
   "source": [
    "unripes = []\n",
    "ripes = []\n",
    "\n",
    "files = glob.glob(traindir + 'banana_unripe/*.jfif')\n",
    "for i,f in enumerate(files):\n",
    "    if i == 0:\n",
    "        unripes = np.zeros((len(files)), '<U256')\n",
    "    unripes[i] = f\n",
    "    \n",
    "files = glob.glob(traindir + 'banana_ripe/*.jfif')\n",
    "for i,f in enumerate(files):\n",
    "    if i == 0:\n",
    "        ripes = np.zeros((len(files)), '<U256')\n",
    "    ripes[i] = f\n"
   ]
  },
  {
   "cell_type": "code",
   "execution_count": 5,
   "metadata": {
    "ExecuteTime": {
     "end_time": "2019-11-09T18:07:44.805094Z",
     "start_time": "2019-11-09T18:07:44.791902Z"
    }
   },
   "outputs": [],
   "source": [
    "unripes = unripes[:len(ripes)]\n",
    "banana = np.concatenate((unripes, ripes))\n",
    "classes = np.concatenate((np.tile(0, len(unripes)), np.tile(1, len(ripes))))\n",
    "x_train, x_test, y_train, y_test = slms.train_test_split(banana, classes,\n",
    "                                                         test_size=0.2, \n",
    "                                                         shuffle=True)"
   ]
  },
  {
   "cell_type": "code",
   "execution_count": 7,
   "metadata": {
    "ExecuteTime": {
     "end_time": "2019-11-09T18:26:36.299841Z",
     "start_time": "2019-11-09T18:26:36.295370Z"
    }
   },
   "outputs": [],
   "source": [
    "def getFeature(X):\n",
    "    for i,x in enumerate(X):\n",
    "        if i == 0:\n",
    "            features = np.zeros((len(X), 3))\n",
    "        img = cv.imread(x)\n",
    "        img = cv.cvtColor(img, cv.COLOR_BGR2Lab)/255\n",
    "        features[i] = getChannelMeans(img)\n",
    "    return features\n"
   ]
  },
  {
   "cell_type": "code",
   "execution_count": 8,
   "metadata": {
    "ExecuteTime": {
     "end_time": "2019-11-09T18:26:37.253794Z",
     "start_time": "2019-11-09T18:26:37.231537Z"
    }
   },
   "outputs": [
    {
     "ename": "UnboundLocalError",
     "evalue": "local variable 'features' referenced before assignment",
     "output_type": "error",
     "traceback": [
      "\u001b[1;31m---------------------------------------------------------------------------\u001b[0m",
      "\u001b[1;31mUnboundLocalError\u001b[0m                         Traceback (most recent call last)",
      "\u001b[1;32m<ipython-input-8-2f9b536c1d48>\u001b[0m in \u001b[0;36m<module>\u001b[1;34m()\u001b[0m\n\u001b[1;32m----> 1\u001b[1;33m \u001b[0mfeatures\u001b[0m \u001b[1;33m=\u001b[0m \u001b[0mgetFeature\u001b[0m\u001b[1;33m(\u001b[0m\u001b[0mx_train\u001b[0m\u001b[1;33m)\u001b[0m\u001b[1;33m\u001b[0m\u001b[0m\n\u001b[0m\u001b[0;32m      2\u001b[0m \u001b[1;33m\u001b[0m\u001b[0m\n\u001b[0;32m      3\u001b[0m \u001b[0mfig\u001b[0m \u001b[1;33m=\u001b[0m \u001b[0mplt\u001b[0m\u001b[1;33m.\u001b[0m\u001b[0mfigure\u001b[0m\u001b[1;33m(\u001b[0m\u001b[0mfigsize\u001b[0m\u001b[1;33m=\u001b[0m\u001b[1;33m(\u001b[0m\u001b[1;36m5\u001b[0m\u001b[1;33m,\u001b[0m\u001b[1;36m5\u001b[0m\u001b[1;33m)\u001b[0m\u001b[1;33m)\u001b[0m\u001b[1;33m\u001b[0m\u001b[0m\n\u001b[0;32m      4\u001b[0m \u001b[0max\u001b[0m \u001b[1;33m=\u001b[0m \u001b[0mfig\u001b[0m\u001b[1;33m.\u001b[0m\u001b[0madd_subplot\u001b[0m\u001b[1;33m(\u001b[0m\u001b[1;36m111\u001b[0m\u001b[1;33m)\u001b[0m\u001b[1;33m\u001b[0m\u001b[0m\n\u001b[0;32m      5\u001b[0m scatter = ax.scatter(features[:,1], features[:,2], \n",
      "\u001b[1;32m<ipython-input-7-f4bed04d9783>\u001b[0m in \u001b[0;36mgetFeature\u001b[1;34m(X)\u001b[0m\n\u001b[0;32m      6\u001b[0m         \u001b[0mimg\u001b[0m \u001b[1;33m=\u001b[0m \u001b[0mcv\u001b[0m\u001b[1;33m.\u001b[0m\u001b[0mcvtColor\u001b[0m\u001b[1;33m(\u001b[0m\u001b[0mimg\u001b[0m\u001b[1;33m,\u001b[0m \u001b[0mcv\u001b[0m\u001b[1;33m.\u001b[0m\u001b[0mCOLOR_BGR2Lab\u001b[0m\u001b[1;33m)\u001b[0m\u001b[1;33m/\u001b[0m\u001b[1;36m255\u001b[0m\u001b[1;33m\u001b[0m\u001b[0m\n\u001b[0;32m      7\u001b[0m         \u001b[0mfeatures\u001b[0m\u001b[1;33m[\u001b[0m\u001b[0mi\u001b[0m\u001b[1;33m]\u001b[0m \u001b[1;33m=\u001b[0m \u001b[0mgetChannelMeans\u001b[0m\u001b[1;33m(\u001b[0m\u001b[0mimg\u001b[0m\u001b[1;33m)\u001b[0m\u001b[1;33m\u001b[0m\u001b[0m\n\u001b[1;32m----> 8\u001b[1;33m     \u001b[1;32mreturn\u001b[0m \u001b[0mfeatures\u001b[0m\u001b[1;33m\u001b[0m\u001b[0m\n\u001b[0m",
      "\u001b[1;31mUnboundLocalError\u001b[0m: local variable 'features' referenced before assignment"
     ]
    }
   ],
   "source": [
    "features = getFeature(x_train)\n",
    "\n",
    "fig = plt.figure(figsize=(5,5))\n",
    "ax = fig.add_subplot(111)\n",
    "scatter = ax.scatter(features[:,1], features[:,2], \n",
    "                     marker='o', c=y_train, cmap='coolwarm')\n",
    "legend = ax.legend(*scatter.legend_elements(), \n",
    "                   title='classes')\n",
    "ax.add_artist(legend)\n",
    "ax.set_xlabel('$a^*$')\n",
    "ax.set_ylabel('$b^*$')\n",
    "# plt.savefig('Lab_extract.png', dpi=300, bbox_inches='tight')\n",
    "plt.show()"
   ]
  },
  {
   "cell_type": "code",
   "execution_count": null,
   "metadata": {},
   "outputs": [],
   "source": []
  }
 ],
 "metadata": {
  "kernelspec": {
   "display_name": "Python 3",
   "language": "python",
   "name": "python3"
  },
  "language_info": {
   "codemirror_mode": {
    "name": "ipython",
    "version": 3
   },
   "file_extension": ".py",
   "mimetype": "text/x-python",
   "name": "python",
   "nbconvert_exporter": "python",
   "pygments_lexer": "ipython3",
   "version": "3.6.5"
  }
 },
 "nbformat": 4,
 "nbformat_minor": 2
}
